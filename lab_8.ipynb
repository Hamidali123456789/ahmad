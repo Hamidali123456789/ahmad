{
  "nbformat": 4,
  "nbformat_minor": 0,
  "metadata": {
    "colab": {
      "provenance": [],
      "authorship_tag": "ABX9TyMy7PEBhGAcxg+kntrV55k9",
      "include_colab_link": true
    },
    "kernelspec": {
      "name": "python3",
      "display_name": "Python 3"
    },
    "language_info": {
      "name": "python"
    }
  },
  "cells": [
    {
      "cell_type": "markdown",
      "metadata": {
        "id": "view-in-github",
        "colab_type": "text"
      },
      "source": [
        "<a href=\"https://colab.research.google.com/github/Hamidali123456789/ahmad/blob/main/lab_8.ipynb\" target=\"_parent\"><img src=\"https://colab.research.google.com/assets/colab-badge.svg\" alt=\"Open In Colab\"/></a>"
      ]
    },
    {
      "cell_type": "code",
      "execution_count": 1,
      "metadata": {
        "colab": {
          "base_uri": "https://localhost:8080/"
        },
        "id": "jga207SN9WK6",
        "outputId": "0feb2a36-4d02-45bc-c6b2-41425d47b61b"
      },
      "outputs": [
        {
          "output_type": "stream",
          "name": "stdout",
          "text": [
            "[[11 36  3 12  8 40 44 41 42 47]\n",
            " [ 3 10 24 40 20 36 19  8 18 25]\n",
            " [ 8 40 23 20 26  2 16 21 49 37]\n",
            " [43  6 27 32  5  4 20 12 19 14]\n",
            " [11 32 37 25 17 45 22 42 24 25]\n",
            " [10 30 46 31 16 23 14 12 35 33]\n",
            " [35 30  6 38 33 12 27  9 44 10]\n",
            " [46  5 31 16 20 36 36 11 33 42]\n",
            " [45 23  8 32  3 35  7 10 34 31]\n",
            " [21 27  1 48 28 49 18 26 43  9]]\n",
            "\n",
            "Step # 1\n",
            "Current state coordinates:  (3, 6)\n",
            "Current state value:  20\n",
            "\n",
            "Step # 2\n",
            "Current state coordinates:  (4, 5)\n",
            "Current state value:  45\n",
            "\n",
            "Step # 3\n",
            "Optimization objective reached.\n",
            "Final state coordinates:  (4, 5)\n",
            "Final state value:  45\n"
          ]
        }
      ],
      "source": [
        "import numpy as np\n",
        "\n",
        "\n",
        "def find_neighbours(state, landscape):\n",
        "    neighbours = []\n",
        "    dim = landscape.shape\n",
        "\n",
        "    # left neighbour\n",
        "    if state[0] != 0:\n",
        "        neighbours.append((state[0] - 1, state[1]))\n",
        "\n",
        "    # right neighbour\n",
        "    if state[0] != dim[0] - 1:\n",
        "        neighbours.append((state[0] + 1, state[1]))\n",
        "\n",
        "    # top neighbour\n",
        "    if state[1] != 0:\n",
        "        neighbours.append((state[0], state[1] - 1))\n",
        "\n",
        "    # bottom neighbour\n",
        "    if state[1] != dim[1] - 1:\n",
        "        neighbours.append((state[0], state[1] + 1))\n",
        "\n",
        "    # top left\n",
        "    if state[0] != 0 and state[1] != 0:\n",
        "        neighbours.append((state[0] - 1, state[1] - 1))\n",
        "\n",
        "    # bottom left\n",
        "    if state[0] != 0 and state[1] != dim[1] - 1:\n",
        "        neighbours.append((state[0] - 1, state[1] + 1))\n",
        "\n",
        "    # top right\n",
        "    if state[0] != dim[0] - 1 and state[1] != 0:\n",
        "        neighbours.append((state[0] + 1, state[1] - 1))\n",
        "\n",
        "    # bottom right\n",
        "    if state[0] != dim[0] - 1 and state[1] != dim[1] - 1:\n",
        "        neighbours.append((state[0] + 1, state[1] + 1))\n",
        "\n",
        "    return neighbours\n",
        "\n",
        "\n",
        "# Current optimization objective: local/global maximum\n",
        "def hill_climb(curr_state, landscape):\n",
        "    neighbours = find_neighbours(curr_state, landscape)\n",
        "    bool\n",
        "    ascended = False\n",
        "    next_state = curr_state\n",
        "    for neighbour in neighbours: #Find the neighbour with the greatest value\n",
        "        if landscape[neighbour[0]][neighbour[1]] > landscape[next_state[0]][next_state[1]]:\n",
        "            next_state = neighbour\n",
        "            ascended = True\n",
        "\n",
        "    return ascended, next_state\n",
        "\n",
        "\n",
        "def __main__():\n",
        "    landscape = np.random.randint(1, high=50, size=(10, 10))\n",
        "    print(landscape)\n",
        "    start_state = (3, 6)  # matrix index coordinates\n",
        "    current_state = start_state\n",
        "    count = 1\n",
        "    ascending = True\n",
        "    while ascending:\n",
        "        print(\"\\nStep #\", count)\n",
        "        print(\"Current state coordinates: \", current_state)\n",
        "        print(\"Current state value: \", landscape[current_state[0]][current_state[1]])\n",
        "        count += 1\n",
        "        ascending, current_state = hill_climb(current_state, landscape)\n",
        "\n",
        "    print(\"\\nStep #\", count)\n",
        "    print(\"Optimization objective reached.\")\n",
        "    print(\"Final state coordinates: \", current_state)\n",
        "    print(\"Final state value: \", landscape[current_state[0]][current_state[1]])\n",
        "\n",
        "\n",
        "__main__()\n",
        "\n",
        "\n",
        "\n",
        "\n"
      ]
    }
  ]
}