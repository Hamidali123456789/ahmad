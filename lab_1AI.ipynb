{
  "nbformat": 4,
  "nbformat_minor": 0,
  "metadata": {
    "colab": {
      "provenance": [],
      "collapsed_sections": [],
      "authorship_tag": "ABX9TyN5W+dYmz9lummwzYHzu0sb",
      "include_colab_link": true
    },
    "kernelspec": {
      "name": "python3",
      "display_name": "Python 3"
    },
    "language_info": {
      "name": "python"
    }
  },
  "cells": [
    {
      "cell_type": "markdown",
      "metadata": {
        "id": "view-in-github",
        "colab_type": "text"
      },
      "source": [
        "<a href=\"https://colab.research.google.com/github/Hamidali123456789/ahmad/blob/main/lab_1AI.ipynb\" target=\"_parent\"><img src=\"https://colab.research.google.com/assets/colab-badge.svg\" alt=\"Open In Colab\"/></a>"
      ]
    },
    {
      "cell_type": "code",
      "execution_count": null,
      "metadata": {
        "colab": {
          "base_uri": "https://localhost:8080/"
        },
        "id": "81jLloJO4Dxx",
        "outputId": "5d9aa0fe-ed4a-428e-b3dd-f2b57dab35b3"
      },
      "outputs": [
        {
          "output_type": "stream",
          "name": "stdout",
          "text": [
            "Enter a number11\n",
            "The given number is an odd number\n"
          ]
        }
      ],
      "source": [
        "n=input(\"Enter a number\")\n",
        "if int(n)%2==0:\n",
        "  print(\"The given number is an even number\")\n",
        "else:\n",
        "  print(\"The given number is an odd number\")"
      ]
    },
    {
      "cell_type": "code",
      "source": [
        "sum=0\n",
        "s=input(\"Enter an integar value....\")\n",
        "n=int(s)\n",
        "while n!=0:\n",
        "  sum=sum+n\n",
        "  s=input(\"Enter an integar value....\")\n",
        "  n=int(s)\n",
        "print(\"sum of give value is \",sum)"
      ],
      "metadata": {
        "colab": {
          "base_uri": "https://localhost:8080/"
        },
        "id": "G4qMkY0n4vrh",
        "outputId": "7edd538e-8f59-46ec-d9c0-3a12b2c6c3c9"
      },
      "execution_count": null,
      "outputs": [
        {
          "output_type": "stream",
          "name": "stdout",
          "text": [
            "Enter an integar value....10\n",
            "Enter an integar value....521\n",
            "Enter an integar value....5\n",
            "Enter an integar value....22\n",
            "Enter an integar value....0\n",
            "sum of give value is  558\n"
          ]
        }
      ]
    },
    {
      "cell_type": "code",
      "source": [
        "isPrime = True\n",
        "i=2\n",
        "n=int(input(\"enter a number\"))\n",
        "while i<n:\n",
        "  remainder=n%i\n",
        "  if remainder==0:\n",
        "      isPrime=False\n",
        "      break\n",
        "  else:\n",
        "    i=i+1\n",
        "\n",
        "if isPrime:\n",
        "   print(\"Number is Prime\")\n",
        "else:\n",
        "  print(\"Number is not Prime\")"
      ],
      "metadata": {
        "colab": {
          "base_uri": "https://localhost:8080/"
        },
        "id": "t4PtaEl15iVJ",
        "outputId": "06d53fc7-ab49-4e57-a119-7d0aeb84774e"
      },
      "execution_count": null,
      "outputs": [
        {
          "output_type": "stream",
          "name": "stdout",
          "text": [
            "enter a number2\n",
            "Number is Prime\n"
          ]
        }
      ]
    },
    {
      "cell_type": "code",
      "source": [
        "sumn=0\n",
        "i=0\n",
        "while i<=3:\n",
        "   s=input(\"enter a number\")\n",
        "   n=int(s)\n",
        "   sumn=sumn+n\n",
        "   i=i+1\n",
        "\n",
        "print(\"sum is \",sumn)"
      ],
      "metadata": {
        "colab": {
          "base_uri": "https://localhost:8080/"
        },
        "id": "5fcjAdDY6aXH",
        "outputId": "63db2b86-901f-4873-b1ac-acf3d24f63b9"
      },
      "execution_count": null,
      "outputs": [
        {
          "output_type": "stream",
          "name": "stdout",
          "text": [
            "enter a number2\n",
            "enter a number3\n",
            "enter a number4\n",
            "enter a number5\n",
            "sum is  14\n"
          ]
        }
      ]
    },
    {
      "cell_type": "code",
      "source": [
        "summation = 0\n",
        "i=1\n",
        "while i<=10:\n",
        "    summation=summation+i\n",
        "    i=i+1\n",
        "\n",
        "print(\"sum is \",summation)"
      ],
      "metadata": {
        "colab": {
          "base_uri": "https://localhost:8080/"
        },
        "id": "muSiEfszAMmo",
        "outputId": "0f952672-6d9f-4a6e-bcb7-bda4fc0a93e9"
      },
      "execution_count": null,
      "outputs": [
        {
          "output_type": "stream",
          "name": "stdout",
          "text": [
            "sum is  55\n"
          ]
        }
      ]
    },
    {
      "cell_type": "code",
      "source": [
        "name = input('What is your name?  ')\n",
        "print('Hello ' + name)\n",
        "\n",
        "job = input('What is your job? ')\n",
        "print('Your job is ' + job)\n",
        "\n",
        "num = input('Give me a number?  ')\n",
        "print('You said: ' +str(num))"
      ],
      "metadata": {
        "colab": {
          "base_uri": "https://localhost:8080/"
        },
        "id": "V-LYt0mEAuci",
        "outputId": "cabd5117-8e9e-4d57-b5f3-bd7504584e5a"
      },
      "execution_count": null,
      "outputs": [
        {
          "output_type": "stream",
          "name": "stdout",
          "text": [
            "What is your name?  Ali\n",
            "Hello Ali\n",
            "What is your job? Teaching\n",
            "Your job is Teaching\n",
            "Give me a number?  ......\n",
            "You said: ......\n"
          ]
        }
      ]
    },
    {
      "cell_type": "code",
      "source": [
        "import random\n",
        "# Awroken\n",
        "\n",
        "MINIMUM=1\n",
        "MAXIMUM=9\n",
        "NUMBER=random.randint(MINIMUM.MAXIMUM)\n",
        "GUESS=None\n",
        "ANOTHER=None\n",
        "TRY=0\n",
        "RUNNING=True\n",
        "\n",
        "print\"Alright...\"\n",
        "\n",
        "while RUNNING \n",
        "   GUESS=raw_input(\"What is your lucky number?\")\n",
        "   if int(GUESS)<NUMBER:\n",
        "     Print\"Wrong,too low.\"\n",
        "    elif int(GUESS)>NUMBER:\n",
        "      print\"Wrong,too high.\"\n",
        "     elif GUESS.Lower()==\"exit\":\n",
        "       print\"Better luck next time.\"\n",
        "     elif int(GUESS)==NUMBER:\n",
        "       Print\"yes,that's the one, %s.\" str(NUMBER)\n",
        "      if TRY <2:\n",
        "         print\"Impressive,only%s tries.\"% str(TRY)\n",
        "      elif TRY>2 and TRY < 10:\n",
        "         print\"Pretty good,%s tries.\"% str(TRY)\n",
        "      else:\n",
        "         print\"Bad,%s tries.\" % str(TRY)\n",
        "      RUNNING=False\n",
        "     TRY +=1    \n"
      ],
      "metadata": {
        "id": "HyQ1k64tC4qm"
      },
      "execution_count": null,
      "outputs": []
    }
  ]
}