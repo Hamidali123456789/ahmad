{
  "cells": [
    {
      "cell_type": "code",
      "execution_count": null,
      "metadata": {
        "colab": {
          "background_save": true,
          "base_uri": "https://localhost:8080/"
        },
        "id": "Ys7Dbwnd2yIm",
        "outputId": "d905c9bc-d894-440f-e726-7d672725a4f3"
      },
      "outputs": [
        {
          "name": "stdout",
          "output_type": "stream",
          "text": [
            "Enter objects of first list....\n",
            "Enter objects of second list....\n"
          ]
        }
      ],
      "source": [
        "myList1=[]\n",
        "print(\"Enter objects of first list....\")\n",
        "for i in range(5):\n",
        "    val=input(\"Entr a value:\")\n",
        "    n=int(val)\n",
        "    myList1.append(n)\n",
        "\n",
        "myList2=[]\n",
        "print(\"Enter objects of second list....\")\n",
        "for i in range(5):\n",
        "    val=input(\"Enter a value:\")\n",
        "    n=int(val)\n",
        "    myList2.append(n)\n",
        "\n",
        "List3=myList1+mylist2;\n",
        "print(List3)      "
      ]
    },
    {
      "cell_type": "code",
      "execution_count": null,
      "metadata": {
        "id": "4xWhvXw09IqW"
      },
      "outputs": [],
      "source": [
        "def isPalindrome(word):\n",
        "  temp=word[::-1]\n",
        "  if temp.capitalize()==word.capitalize():\n",
        "     return True\n",
        "  else:\n",
        "    return False\n",
        "\n",
        "print(isPalindrome(\"deed\"))     "
      ]
    },
    {
      "cell_type": "code",
      "execution_count": null,
      "metadata": {
        "id": "cLsdug9b-ddp"
      },
      "outputs": [],
      "source": [
        "for indrow in range (3):\n",
        "  c.append ([])\n",
        "  for indcol in range(3):\n",
        "      c[indrow].append (0)\n",
        "      for indaux in range (3):\n",
        "          c[indrow][indoo] += a[indrow][indaux] * b[indcol][indaux]\n",
        "print (c)           \n"
      ]
    },
    {
      "cell_type": "code",
      "execution_count": null,
      "metadata": {
        "id": "7n1ApcfkAlRr"
      },
      "outputs": [],
      "source": [
        "def perimeter(listing):\n",
        "  len=len(listing)\n",
        "  perimeter=0;\n",
        "  for i in range(0,len-1):\n",
        "      dist = (((listingp[i][0]-listing[i+1][0])**2)+((listing[i][1]-listing[i+1][1])**2))**0.5\n",
        "      perimeter = perimeter + dist\n",
        "   perimeter = perimeter + (((listing[0][0]-listing[leng-1][0])**2)+((listing[0][1]-listing[leng-1][1])**))**0.5\n",
        "   return perimeter\n",
        "\n",
        " L = [(1,3), (2,7), (3,9), (-1,8)]\n",
        " print(perimeter(L))    "
      ]
    },
    {
      "cell_type": "code",
      "execution_count": null,
      "metadata": {
        "id": "DXIZgqNDDPlU"
      },
      "outputs": [],
      "source": [
        "#Function defined\n",
        "def symmDiff(a,b):\n",
        "    e=set()\n",
        "    for i in a:\n",
        "        if i not in b:\n",
        "            e.add(i)\n",
        "    for i in b:\n",
        "         if i not in a:\n",
        "            e.add(i)\n",
        "    return e\n",
        "\n",
        "set1={0,1,2,4,5}\n",
        "set2={4,5,7,8,9}\n",
        "print(symmDiff(set1,set2))\n",
        "\n",
        "#verification using inbuilt function\n",
        "print(set1.symmetric_difference(set2))\n",
        "print(set2.symmetric_difference(set1))\n",
        "print(set1^set2)\n",
        "print(set2^set1)"
      ]
    },
    {
      "cell_type": "code",
      "execution_count": null,
      "metadata": {
        "id": "wxiLpoDQFLXm"
      },
      "outputs": [],
      "source": [
        "sample={(\"sohaib\",\"ali\"):\"0246585468445\", (\"aib\",\"li\"):\"02465854645\",(\"sib\",\"ai\"):\"0246585468445\",}\n",
        "firstName = input(\"enter first name\")\n",
        "lastName = input(\"enter last name\")\n",
        "\n",
        "searchTuple = (firstNme, lastName)\n",
        "if searchTuple in sample:\n",
        "   print(sample[searchTuple])\n",
        "else:\n",
        "   print(\"name not found\")   "
      ]
    },
    {
      "cell_type": "code",
      "source": [
        "\n",
        "\n",
        "x=;\n",
        "y==;\n",
        "n1=int(input(\"enter the umber of element\"))\n",
        "for i in range(1,n1+1):\n",
        "  z=int(input(\"enter the elements\"))\n",
        "  x=append(z)\n",
        "n2=int(input(\"enter the number of elements\"))\n",
        "for i in range(1,n2+1):\n",
        "  w=int(input(\"enter the elements\"))\n",
        "  y.append(w)\n",
        "merge_list=x+y\n",
        "print(\"Merge list\",merge_list)\n",
        "merge_list.sort()\n",
        "print(\"sorted list\",merge_list)  \n"
      ],
      "metadata": {
        "id": "GmovP-18i4qf"
      },
      "execution_count": null,
      "outputs": []
    },
    {
      "cell_type": "code",
      "source": [
        "\n",
        "\n",
        "x=;\n",
        "y=;\n",
        "n1=int(input(\"enter the number of element\"))\n",
        "fori in range(1,n1+1);\n",
        " z=int(input(\"enter the elements\"))\n",
        " x.append(z)\n",
        "n2=int(input(\"enter the number of element\"))\n",
        "for i in range(1,n2+1):\n",
        "  w=int(input(\"enter the elements\"))\n",
        "  y.append(w)\n",
        "merge_list=x+y\n",
        "print(\"Merge list\",merge_list)\n",
        "merge_list.sort()\n",
        "print(\"sorted list\",merge_list)\n",
        "print(\"smallest number is\",x[0])\n",
        "print(\"Largest number is\",y[-1])   "
      ],
      "metadata": {
        "id": "OO6eFJ_qlseo"
      },
      "execution_count": null,
      "outputs": []
    },
    {
      "cell_type": "code",
      "source": [
        "from sympy.functions.special.spherical_harmonics import Ynm\n",
        "from sympy.functions import yn\n",
        "from sympy.algebras.quaternion import cos\n",
        "from sympy import sin\n",
        "import math\n",
        "\n",
        "def pii(a):\n",
        "  x=0.001\n",
        "  s=sin(x)\n",
        "  y=cos(x)\n",
        "  s=y\n",
        "  z=y\n",
        "\n",
        "\n",
        "  \n",
        "  \n",
        "print(pii(z))"
      ],
      "metadata": {
        "id": "E0FqV4S8nLIK"
      },
      "execution_count": null,
      "outputs": []
    },
    {
      "cell_type": "code",
      "source": [
        "birthday_dictionary={\"saad\":\"13/06\",\"masood\":\"31/07\",\"ali\":\"10/10\"}\n",
        "print(\"We knaow the birthdays of\",birthday_dictionary.keys())\n",
        "name=input(\"Who's birthday do you want to look up?\")\n",
        "print(name,\"'s bday is on\",birthday_dictionary[name]) "
      ],
      "metadata": {
        "colab": {
          "base_uri": "https://localhost:8080/"
        },
        "id": "CrVn1cgypowe",
        "outputId": "adb69ab6-2d73-4081-b871-d51d52fa847d"
      },
      "execution_count": null,
      "outputs": [
        {
          "output_type": "stream",
          "name": "stdout",
          "text": [
            "We knaow the birthdays of dict_keys(['saad', 'masood', 'ali'])\n",
            "Who's birthday do you want to look up?saad\n",
            "saad 's bday is on 13/06\n"
          ]
        }
      ]
    },
    {
      "cell_type": "code",
      "source": [
        "ontact_items =[{'name': ['saif'],\n",
        "                 'age': ['25'],\n",
        "                 \"city\": [\"New york\"],\n",
        "                 'salary': [1000]}]\n",
        "\n",
        "\n",
        "\n",
        "\n",
        "\n",
        "[{'name': ['saif'],\n",
        "                 'salary': [1000]}]\n",
        "\n",
        "list1 = ''\n",
        "list2 = ''\n",
        "list3 = []\n",
        "test_dict = {}\n",
        "\n",
        "for item in contact_items:\n",
        "    list1 = item['name']\n",
        "    list2 = item['salary']\n",
        "\n",
        "test_dict = {}\n",
        "\n",
        "for k in list1:\n",
        "    for l in list2:\n",
        "        test_dict['name'] = k\n",
        "        test_dict['salary'] = l\n",
        "        list3.append(test_dict)\n",
        "\n",
        "print(list3) "
      ],
      "metadata": {
        "id": "NXqTnzYip9BD"
      },
      "execution_count": null,
      "outputs": []
    }
  ],
  "metadata": {
    "colab": {
      "collapsed_sections": [],
      "provenance": [],
      "authorship_tag": "ABX9TyPd4i4FKLA292SHoZ1SsbeH"
    },
    "kernelspec": {
      "display_name": "Python 3",
      "name": "python3"
    },
    "language_info": {
      "name": "python"
    }
  },
  "nbformat": 4,
  "nbformat_minor": 0
}