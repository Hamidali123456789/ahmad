{
  "nbformat": 4,
  "nbformat_minor": 0,
  "metadata": {
    "colab": {
      "provenance": [],
      "authorship_tag": "ABX9TyO8Or5wVBT2INZAvjRwrSa0",
      "include_colab_link": true
    },
    "kernelspec": {
      "name": "python3",
      "display_name": "Python 3"
    },
    "language_info": {
      "name": "python"
    }
  },
  "cells": [
    {
      "cell_type": "markdown",
      "metadata": {
        "id": "view-in-github",
        "colab_type": "text"
      },
      "source": [
        "<a href=\"https://colab.research.google.com/github/Hamidali123456789/ahmad/blob/main/lab_10.ipynb\" target=\"_parent\"><img src=\"https://colab.research.google.com/assets/colab-badge.svg\" alt=\"Open In Colab\"/></a>"
      ]
    },
    {
      "cell_type": "code",
      "execution_count": null,
      "metadata": {
        "id": "JmEj080OAUlg"
      },
      "outputs": [],
      "source": [
        "geneSet = \"abcdefghijklmnopqrstuvwxyzABCDEFGHIJKLMNOPQRSTUVWXYZ!,. ?\"\n",
        "import random\n",
        "import datetime\n",
        "def Calculate_Fitness(guess):\n",
        "    return sum(1 for expected,actual in zip(target,guess) if expected==actual)\n",
        "\n",
        "def Cross_Over(length):\n",
        "    genes=[]\n",
        "    while len(genes)=childFitness:\n",
        "            continue\n",
        "              Display(child, startTime)\n",
        "              ifchildFitness>=len(bestParent):\n",
        "                break\n",
        "                exit(0)\n",
        "        bestFitness=childFitness\n",
        "        bestParent=child\n",
        "target = input()\n",
        "run_genetic_algo(target)"
      ]
    }
  ]
}