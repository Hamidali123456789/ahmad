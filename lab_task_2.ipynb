{
  "nbformat": 4,
  "nbformat_minor": 0,
  "metadata": {
    "colab": {
      "provenance": [],
      "collapsed_sections": [],
      "authorship_tag": "ABX9TyOp/lyPlBLg/wJ3qmYhmPwN",
      "include_colab_link": true
    },
    "kernelspec": {
      "name": "python3",
      "display_name": "Python 3"
    },
    "language_info": {
      "name": "python"
    }
  },
  "cells": [
    {
      "cell_type": "markdown",
      "metadata": {
        "id": "view-in-github",
        "colab_type": "text"
      },
      "source": [
        "<a href=\"https://colab.research.google.com/github/Hamidali123456789/ahmad/blob/main/lab_task_2.ipynb\" target=\"_parent\"><img src=\"https://colab.research.google.com/assets/colab-badge.svg\" alt=\"Open In Colab\"/></a>"
      ]
    },
    {
      "cell_type": "code",
      "execution_count": null,
      "metadata": {
        "colab": {
          "base_uri": "https://localhost:8080/"
        },
        "id": "Ys7Dbwnd2yIm",
        "outputId": "89779d3d-95d1-4a50-8414-12c0105f7ba0"
      },
      "outputs": [
        {
          "metadata": {
            "tags": null
          },
          "name": "stdout",
          "output_type": "stream",
          "text": [
            "Enter objects of first list....\n",
            "Enter objects of second list....\n"
          ]
        }
      ],
      "source": [
        "myList1=[]\n",
        "print(\"Enter objects of first list....\")\n",
        "for i in range(5):\n",
        "    val=input(\"Entr a value:\")\n",
        "    n=int(val)\n",
        "    myList1.append(n)\n",
        "\n",
        "myList2=[]\n",
        "print(\"Enter objects of second list....\")\n",
        "for i in range(5):\n",
        "    val=input(\"Enter a value:\")\n",
        "    n=int(val)\n",
        "    myList2.append(n)\n",
        "\n",
        "List3=myList1+mylist2;\n",
        "print(List3)      "
      ]
    },
    {
      "cell_type": "code",
      "source": [
        "def isPalindrome(word):\n",
        "  temp=word[::-1]\n",
        "  if temp.capitalize()==word.capitalize():\n",
        "     return True\n",
        "  else:\n",
        "    return False\n",
        "\n",
        "print(isPalindrome(\"deed\"))     "
      ],
      "metadata": {
        "id": "4xWhvXw09IqW"
      },
      "execution_count": null,
      "outputs": []
    },
    {
      "cell_type": "code",
      "source": [
        "for indrow in range (3):\n",
        "  c.append ([])\n",
        "  for indcol in range(3):\n",
        "      c[indrow].append (0)\n",
        "      for indaux in range (3):\n",
        "          c[indrow][indoo] += a[indrow][indaux] * b[indcol][indaux]\n",
        "print (c)           \n"
      ],
      "metadata": {
        "id": "cLsdug9b-ddp"
      },
      "execution_count": null,
      "outputs": []
    },
    {
      "cell_type": "code",
      "source": [
        "def perimeter(listing):\n",
        "  len=len(listing)\n",
        "  perimeter=0;\n",
        "  for i in range(0,len-1):\n",
        "      dist = (((listingp[i][0]-listing[i+1][0])**2)+((listing[i][1]-listing[i+1][1])**2))**0.5\n",
        "      perimeter = perimeter + dist\n",
        "   perimeter = perimeter + (((listing[0][0]-listing[leng-1][0])**2)+((listing[0][1]-listing[leng-1][1])**))**0.5\n",
        "   return perimeter\n",
        "\n",
        " L = [(1,3), (2,7), (3,9), (-1,8)]\n",
        " print(perimeter(L))    "
      ],
      "metadata": {
        "id": "7n1ApcfkAlRr"
      },
      "execution_count": null,
      "outputs": []
    },
    {
      "cell_type": "code",
      "source": [
        "#Function defined\n",
        "def symmDiff(a,b):\n",
        "    e=set()\n",
        "    for i in a:\n",
        "        if i not in b:\n",
        "            e.add(i)\n",
        "    for i in b:\n",
        "         if i not in a:\n",
        "            e.add(i)\n",
        "    return e\n",
        "\n",
        "set1={0,1,2,4,5}\n",
        "set2={4,5,7,8,9}\n",
        "print(symmDiff(set1,set2))\n",
        "\n",
        "#verification using inbuilt function\n",
        "print(set1.symmetric_difference(set2))\n",
        "print(set2.symmetric_difference(set1))\n",
        "print(set1^set2)\n",
        "print(set2^set1)"
      ],
      "metadata": {
        "id": "DXIZgqNDDPlU"
      },
      "execution_count": null,
      "outputs": []
    },
    {
      "cell_type": "code",
      "source": [
        "sample={(\"sohaib\",\"ali\"):\"0246585468445\", (\"aib\",\"li\"):\"02465854645\",(\"sib\",\"ai\"):\"0246585468445\",}\n",
        "firstName = input(\"enter first name\")\n",
        "lastName = input(\"enter last name\")\n",
        "\n",
        "searchTuple = (firstNme, lastName)\n",
        "if searchTuple in sample:\n",
        "   print(sample[searchTuple])\n",
        "else:\n",
        "   print(\"name not found\")   "
      ],
      "metadata": {
        "id": "wxiLpoDQFLXm"
      },
      "execution_count": null,
      "outputs": []
    }
  ]
}